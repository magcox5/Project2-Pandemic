{
 "cells": [
  {
   "cell_type": "code",
   "execution_count": 1,
   "metadata": {},
   "outputs": [],
   "source": [
    "# Dependencies and Setup\n",
    "import pandas as pd\n",
    "import numpy as np"
   ]
  },
  {
   "cell_type": "code",
   "execution_count": null,
   "metadata": {},
   "outputs": [],
   "source": [
    "# Dependencies and Setup\n",
    "pd.set_option('display.max_rows', 500)\n",
    "pd.set_option('display.max_columns', 500)\n",
    "pd.set_option('display.width', 1000)\n",
    "\n",
    "# File to Load (Remember to Change These)\n",
    "covid19_data_to_load = \"Data/covid19_data.csv\"\n",
    "centroid_data_to_load = \"Data/country_centroids_az8.csv\"\n",
    "pop_data_to_load = \"Data/pop_data_2009-2019.csv\"\n",
    "\n",
    "# Read School and Student Data File and store into Pandas Data Frames\n",
    "#covid19_data = pd.read_csv(swineflu_data_to_load, encoding=”ISO-8859–1”)\n",
    "covid19_data = pd.read_csv(covid19_data_to_load, encoding=\"ISO-8859-1\")\n",
    "centroid_data = pd.read_csv(centroid_data_to_load)\n",
    "pop_data = pd.read_csv(pop_data_to_load)"
   ]
  },
  {
   "cell_type": "code",
   "execution_count": null,
   "metadata": {},
   "outputs": [],
   "source": [
    "# remove spaces and '.' in column names\n",
    "covid19_data.columns = [c.replace(' ', '_') for c in covid19_data.columns]\n",
    "covid19_data.columns = [c.replace('.', '') for c in covid19_data.columns]\n",
    "\n",
    "# Find earliest and latest dates\n",
    "print(covid19_data.Date.min())\n",
    "print(covid19_data.Date.max())\n",
    "covid19_data"
   ]
  },
  {
   "cell_type": "code",
   "execution_count": null,
   "metadata": {},
   "outputs": [],
   "source": [
    "# Add year column to dataframe\n",
    "covid19_data['Year'] = pd.DatetimeIndex(covid19_data['Date']).year\n",
    "covid19_data"
   ]
  },
  {
   "cell_type": "code",
   "execution_count": null,
   "metadata": {},
   "outputs": [],
   "source": [
    "covid19_data['Country'].value_counts()"
   ]
  },
  {
   "cell_type": "code",
   "execution_count": null,
   "metadata": {},
   "outputs": [],
   "source": [
    "# Group by country and year (I think there's only one year, but just in case...)\n",
    "covid19_data_1 = covid19_data.groupby([\"Country\", \"Year\"], as_index = False).agg(\n",
    "    {\n",
    "        'Cases':'sum',    \n",
    "        'Deaths': 'sum'\n",
    "    }\n",
    ")\n",
    "\n",
    "covid19_data_1"
   ]
  },
  {
   "cell_type": "code",
   "execution_count": null,
   "metadata": {},
   "outputs": [],
   "source": [
    "# Merge longitude and latitude data by country\n",
    "# Get name, Longitude, and Latitude from centroid_data\n",
    "centroid_data_1 = centroid_data[['name', 'Longitude', 'Latitude']]\n",
    "centroid_data_2 = centroid_data_1['name'].replace(['United States'], 'United States of America')\n",
    "centroid_data_2"
   ]
  },
  {
   "cell_type": "code",
   "execution_count": null,
   "metadata": {},
   "outputs": [],
   "source": [
    "\n",
    "\n",
    "# Merge centroid lon, lat \n",
    "covid19_2 = pd.merge(covid19_data_1 , centroid_data_1, left_on='Country', right_on='name', how = 'left')\n",
    "covid19_2\n",
    "\n"
   ]
  },
  {
   "cell_type": "code",
   "execution_count": null,
   "metadata": {},
   "outputs": [],
   "source": [
    "# Get subset of pop_data, Country, 2014, 2015, 2016\n",
    "pop_data_1 = pop_data[['Country', '2016']]\n",
    "pop_data_1"
   ]
  }
 ],
 "metadata": {
  "kernelspec": {
   "display_name": "Python 3",
   "language": "python",
   "name": "python3"
  },
  "language_info": {
   "codemirror_mode": {
    "name": "ipython",
    "version": 3
   },
   "file_extension": ".py",
   "mimetype": "text/x-python",
   "name": "python",
   "nbconvert_exporter": "python",
   "pygments_lexer": "ipython3",
   "version": "3.7.4"
  }
 },
 "nbformat": 4,
 "nbformat_minor": 2
}
